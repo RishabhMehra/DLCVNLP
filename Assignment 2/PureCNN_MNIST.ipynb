{
  "nbformat": 4,
  "nbformat_minor": 0,
  "metadata": {
    "colab": {
      "name": "PureCNN_MNIST.ipynb",
      "provenance": [],
      "collapsed_sections": [],
      "authorship_tag": "ABX9TyOm4/iqj9uZ0Ywj9V7wH2VP",
      "include_colab_link": true
    },
    "kernelspec": {
      "name": "python3",
      "display_name": "Python 3"
    },
    "language_info": {
      "name": "python"
    },
    "accelerator": "GPU"
  },
  "cells": [
    {
      "cell_type": "markdown",
      "metadata": {
        "id": "view-in-github",
        "colab_type": "text"
      },
      "source": [
        "<a href=\"https://colab.research.google.com/github/RishabhMehra/DLCVNLP/blob/main/Assignment%202/PureCNN_MNIST.ipynb\" target=\"_parent\"><img src=\"https://colab.research.google.com/assets/colab-badge.svg\" alt=\"Open In Colab\"/></a>"
      ]
    },
    {
      "cell_type": "code",
      "metadata": {
        "colab": {
          "base_uri": "https://localhost:8080/"
        },
        "id": "Pcv68Jm7_ggv",
        "outputId": "703ed3b6-d5df-417a-921f-db94e1e9bbb1"
      },
      "source": [
        "!nvidia-smi\n"
      ],
      "execution_count": null,
      "outputs": [
        {
          "output_type": "stream",
          "text": [
            "Thu Aug 12 05:37:11 2021       \n",
            "+-----------------------------------------------------------------------------+\n",
            "| NVIDIA-SMI 470.42.01    Driver Version: 460.32.03    CUDA Version: 11.2     |\n",
            "|-------------------------------+----------------------+----------------------+\n",
            "| GPU  Name        Persistence-M| Bus-Id        Disp.A | Volatile Uncorr. ECC |\n",
            "| Fan  Temp  Perf  Pwr:Usage/Cap|         Memory-Usage | GPU-Util  Compute M. |\n",
            "|                               |                      |               MIG M. |\n",
            "|===============================+======================+======================|\n",
            "|   0  Tesla K80           Off  | 00000000:00:04.0 Off |                    0 |\n",
            "| N/A   39C    P8    27W / 149W |      0MiB / 11441MiB |      0%      Default |\n",
            "|                               |                      |                  N/A |\n",
            "+-------------------------------+----------------------+----------------------+\n",
            "                                                                               \n",
            "+-----------------------------------------------------------------------------+\n",
            "| Processes:                                                                  |\n",
            "|  GPU   GI   CI        PID   Type   Process name                  GPU Memory |\n",
            "|        ID   ID                                                   Usage      |\n",
            "|=============================================================================|\n",
            "|  No running processes found                                                 |\n",
            "+-----------------------------------------------------------------------------+\n"
          ],
          "name": "stdout"
        }
      ]
    },
    {
      "cell_type": "code",
      "metadata": {
        "colab": {
          "base_uri": "https://localhost:8080/"
        },
        "id": "DJGgmaV3APDe",
        "outputId": "295cdb56-dcf7-4964-ac4c-b05e4978c4d5"
      },
      "source": [
        "from tensorflow.keras.datasets import mnist\n",
        "\n",
        "(X_train,y_train), (X_test, y_test)  = mnist.load_data()\n",
        "\n",
        "print(\"The MNIST database has a training set of %d examples.\" % len(X_train))\n",
        "print(\"The MNIST database has a test set of %d examples.\" % len(X_test))"
      ],
      "execution_count": null,
      "outputs": [
        {
          "output_type": "stream",
          "text": [
            "The MNIST database has a training set of 60000 examples.\n",
            "The MNIST database has a test set of 10000 examples.\n"
          ],
          "name": "stdout"
        }
      ]
    },
    {
      "cell_type": "code",
      "metadata": {
        "colab": {
          "base_uri": "https://localhost:8080/",
          "height": 210
        },
        "id": "OJDnVowxAY0U",
        "outputId": "4bd746af-a7bc-4e7b-c878-a024655e4e5c"
      },
      "source": [
        "import matplotlib.pyplot as plt\n",
        "%matplotlib inline\n",
        "import matplotlib.cm as cm\n",
        "import numpy as np\n",
        "\n",
        "# plot first six training images\n",
        "fig = plt.figure(figsize=(20,20))\n",
        "for i in range(6):\n",
        "    ax = fig.add_subplot(1, 6, i+1, xticks=[], yticks=[])\n",
        "    ax.imshow(X_train[i], cmap='gray')\n",
        "    ax.set_title(str(y_train[i]))"
      ],
      "execution_count": null,
      "outputs": [
        {
          "output_type": "display_data",
          "data": {
            "image/png": "[encoded data removed]",
            "text/plain": [
              "<Figure size 1440x1440 with 6 Axes>"
            ]
          },
          "metadata": {
            "tags": []
          }
        }
      ]
    },
    {
      "cell_type": "code",
      "metadata": {
        "id": "3DMWETIuAf1j"
      },
      "source": [
        "##Scaling Image\n",
        "\n",
        "X_train = X_train.astype('float32')/255\n",
        "X_test = X_test.astype('float32')/255\n"
      ],
      "execution_count": null,
      "outputs": []
    },
    {
      "cell_type": "code",
      "metadata": {
        "id": "YX81bX4XAm4x"
      },
      "source": [
        "#encoding target \n",
        "\n",
        "from keras.utils import np_utils\n",
        "\n",
        "num_classes = 10 \n",
        "\n",
        "y_train = np_utils.to_categorical(y_train, num_classes)\n",
        "y_test = np_utils.to_categorical(y_test,num_classes)\n",
        "\n",
        "\n"
      ],
      "execution_count": null,
      "outputs": []
    },
    {
      "cell_type": "code",
      "metadata": {
        "colab": {
          "base_uri": "https://localhost:8080/"
        },
        "id": "rTeHG7T2AtCF",
        "outputId": "2144905f-0d7c-4543-fe5f-c14450385f61"
      },
      "source": [
        "img_rows, img_cols = 28,28\n",
        "\n",
        "X_train = X_train.reshape(X_train.shape[0],img_rows,img_cols,1)\n",
        "X_test = X_test.reshape(X_test.shape[0],img_rows,img_cols,1)\n",
        "\n",
        "input_shape = (img_rows,img_cols,1)\n",
        "\n",
        "print('input_shape: ', input_shape)\n",
        "print('x_train shape:', X_train.shape)"
      ],
      "execution_count": null,
      "outputs": [
        {
          "output_type": "stream",
          "text": [
            "input_shape:  (28, 28, 1)\n",
            "x_train shape: (60000, 28, 28, 1)\n"
          ],
          "name": "stdout"
        }
      ]
    },
    {
      "cell_type": "code",
      "metadata": {
        "colab": {
          "base_uri": "https://localhost:8080/"
        },
        "id": "C50JlFEfAyh5",
        "outputId": "ff24b683-7c21-4f9b-9a3a-687f40e79b50"
      },
      "source": [
        "from tensorflow.keras.models import Sequential\n",
        "from tensorflow.keras.layers import Conv2D, MaxPooling2D, Flatten, Dense, Dropout, GlobalAveragePooling2D,BatchNormalization\n",
        "\n",
        "\n",
        "model = Sequential()\n",
        "\n",
        "model.add(Conv2D(8, kernel_size=(3, 3),activation='relu',input_shape=(28,28,1)))#26\n",
        "model.add(BatchNormalization())\n",
        "model.add(Dropout(0.2))\n",
        "\n",
        "model.add(Conv2D(10, (3, 3), activation='relu'))#24\n",
        "model.add(BatchNormalization())\n",
        "model.add(Dropout(0.2))\n",
        "\n",
        "\n",
        "\n",
        "model.add(Conv2D(10, (3, 3), activation='relu'))#22\n",
        "model.add(Conv2D(10, (3, 3),strides=(2,2), activation='relu'))#11\n",
        "\n",
        "model.add(Conv2D(14, (3, 3), activation='relu'))#8\n",
        "model.add(BatchNormalization())\n",
        "model.add(Dropout(0.2))\n",
        "\n",
        "model.add(Conv2D(14, (3, 3), activation='relu'))#6\n",
        "\n",
        "\n",
        "model.add(Conv2D(14, (3, 3), activation='relu'))#4\n",
        "\n",
        "model.add(Conv2D(10, 4,4))\n",
        "\n",
        "model.add(Flatten())\n",
        "model.add(Dense(10,activation='softmax'))\n",
        "\n",
        "model.summary()"
      ],
      "execution_count": null,
      "outputs": [
        {
          "output_type": "stream",
          "text": [
            "Model: \"sequential_7\"\n",
            "_________________________________________________________________\n",
            "Layer (type)                 Output Shape              Param #   \n",
            "=================================================================\n",
            "conv2d_52 (Conv2D)           (None, 26, 26, 8)         80        \n",
            "_________________________________________________________________\n",
            "batch_normalization_21 (Batc (None, 26, 26, 8)         32        \n",
            "_________________________________________________________________\n",
            "dropout_21 (Dropout)         (None, 26, 26, 8)         0         \n",
            "_________________________________________________________________\n",
            "conv2d_53 (Conv2D)           (None, 24, 24, 10)        730       \n",
            "_________________________________________________________________\n",
            "batch_normalization_22 (Batc (None, 24, 24, 10)        40        \n",
            "_________________________________________________________________\n",
            "dropout_22 (Dropout)         (None, 24, 24, 10)        0         \n",
            "_________________________________________________________________\n",
            "conv2d_54 (Conv2D)           (None, 22, 22, 10)        910       \n",
            "_________________________________________________________________\n",
            "conv2d_55 (Conv2D)           (None, 10, 10, 10)        910       \n",
            "_________________________________________________________________\n",
            "conv2d_56 (Conv2D)           (None, 8, 8, 14)          1274      \n",
            "_________________________________________________________________\n",
            "batch_normalization_23 (Batc (None, 8, 8, 14)          56        \n",
            "_________________________________________________________________\n",
            "dropout_23 (Dropout)         (None, 8, 8, 14)          0         \n",
            "_________________________________________________________________\n",
            "conv2d_57 (Conv2D)           (None, 6, 6, 14)          1778      \n",
            "_________________________________________________________________\n",
            "conv2d_58 (Conv2D)           (None, 4, 4, 14)          1778      \n",
            "_________________________________________________________________\n",
            "conv2d_59 (Conv2D)           (None, 1, 1, 10)          2250      \n",
            "_________________________________________________________________\n",
            "flatten_6 (Flatten)          (None, 10)                0         \n",
            "_________________________________________________________________\n",
            "dense_6 (Dense)              (None, 10)                110       \n",
            "=================================================================\n",
            "Total params: 9,948\n",
            "Trainable params: 9,884\n",
            "Non-trainable params: 64\n",
            "_________________________________________________________________\n"
          ],
          "name": "stdout"
        }
      ]
    },
    {
      "cell_type": "code",
      "metadata": {
        "id": "cqjCoy9WIq8k"
      },
      "source": [
        "model.compile(loss='categorical_crossentropy', optimizer='SGD', \n",
        "              metrics=['accuracy'])"
      ],
      "execution_count": null,
      "outputs": []
    },
    {
      "cell_type": "code",
      "metadata": {
        "colab": {
          "base_uri": "https://localhost:8080/"
        },
        "id": "t4kei5Xgnjdp",
        "outputId": "8c49f271-f6e0-4505-8576-c272a20fcb39"
      },
      "source": [
        "from tensorflow.keras.callbacks import ModelCheckpoint   \n",
        "\n",
        "# train the model\n",
        "checkpointer = ModelCheckpoint(filepath='model.weights.best.hdf5', verbose=1, \n",
        "                               save_best_only=True)\n",
        "hist = model.fit(X_train, y_train, batch_size=8, epochs=20,\n",
        "          validation_data=(X_test, y_test), callbacks=[checkpointer], \n",
        "          verbose=2, shuffle=True)"
      ],
      "execution_count": null,
      "outputs": [
        {
          "output_type": "stream",
          "text": [
            "Epoch 1/20\n",
            "7500/7500 - 67s - loss: 0.2366 - accuracy: 0.9264 - val_loss: 0.0842 - val_accuracy: 0.9732\n",
            "\n",
            "Epoch 00001: val_loss improved from inf to 0.08419, saving model to model.weights.best.hdf5\n",
            "Epoch 2/20\n",
            "7500/7500 - 38s - loss: 0.0978 - accuracy: 0.9697 - val_loss: 0.0543 - val_accuracy: 0.9818\n",
            "\n",
            "Epoch 00002: val_loss improved from 0.08419 to 0.05429, saving model to model.weights.best.hdf5\n",
            "Epoch 3/20\n",
            "7500/7500 - 38s - loss: 0.0739 - accuracy: 0.9773 - val_loss: 0.0479 - val_accuracy: 0.9835\n",
            "\n",
            "Epoch 00003: val_loss improved from 0.05429 to 0.04789, saving model to model.weights.best.hdf5\n",
            "Epoch 4/20\n",
            "7500/7500 - 38s - loss: 0.0631 - accuracy: 0.9804 - val_loss: 0.0512 - val_accuracy: 0.9829\n",
            "\n",
            "Epoch 00004: val_loss did not improve from 0.04789\n",
            "Epoch 5/20\n",
            "7500/7500 - 38s - loss: 0.0587 - accuracy: 0.9823 - val_loss: 0.0403 - val_accuracy: 0.9868\n",
            "\n",
            "Epoch 00005: val_loss improved from 0.04789 to 0.04028, saving model to model.weights.best.hdf5\n",
            "Epoch 6/20\n",
            "7500/7500 - 38s - loss: 0.0516 - accuracy: 0.9833 - val_loss: 0.0342 - val_accuracy: 0.9884\n",
            "\n",
            "Epoch 00006: val_loss improved from 0.04028 to 0.03424, saving model to model.weights.best.hdf5\n",
            "Epoch 7/20\n",
            "7500/7500 - 39s - loss: 0.0469 - accuracy: 0.9852 - val_loss: 0.0408 - val_accuracy: 0.9863\n",
            "\n",
            "Epoch 00007: val_loss did not improve from 0.03424\n",
            "Epoch 8/20\n",
            "7500/7500 - 39s - loss: 0.0448 - accuracy: 0.9858 - val_loss: 0.0325 - val_accuracy: 0.9895\n",
            "\n",
            "Epoch 00008: val_loss improved from 0.03424 to 0.03247, saving model to model.weights.best.hdf5\n",
            "Epoch 9/20\n",
            "7500/7500 - 38s - loss: 0.0412 - accuracy: 0.9866 - val_loss: 0.0316 - val_accuracy: 0.9898\n",
            "\n",
            "Epoch 00009: val_loss improved from 0.03247 to 0.03160, saving model to model.weights.best.hdf5\n",
            "Epoch 10/20\n",
            "7500/7500 - 38s - loss: 0.0408 - accuracy: 0.9870 - val_loss: 0.0318 - val_accuracy: 0.9892\n",
            "\n",
            "Epoch 00010: val_loss did not improve from 0.03160\n",
            "Epoch 11/20\n",
            "7500/7500 - 38s - loss: 0.0383 - accuracy: 0.9881 - val_loss: 0.0415 - val_accuracy: 0.9868\n",
            "\n",
            "Epoch 00011: val_loss did not improve from 0.03160\n",
            "Epoch 12/20\n",
            "7500/7500 - 41s - loss: 0.0364 - accuracy: 0.9881 - val_loss: 0.0278 - val_accuracy: 0.9920\n",
            "\n",
            "Epoch 00012: val_loss improved from 0.03160 to 0.02777, saving model to model.weights.best.hdf5\n",
            "Epoch 13/20\n",
            "7500/7500 - 38s - loss: 0.0345 - accuracy: 0.9892 - val_loss: 0.0310 - val_accuracy: 0.9911\n",
            "\n",
            "Epoch 00013: val_loss did not improve from 0.02777\n",
            "Epoch 14/20\n",
            "7500/7500 - 38s - loss: 0.0351 - accuracy: 0.9890 - val_loss: 0.0263 - val_accuracy: 0.9915\n",
            "\n",
            "Epoch 00014: val_loss improved from 0.02777 to 0.02630, saving model to model.weights.best.hdf5\n",
            "Epoch 15/20\n",
            "7500/7500 - 38s - loss: 0.0327 - accuracy: 0.9889 - val_loss: 0.0273 - val_accuracy: 0.9918\n",
            "\n",
            "Epoch 00015: val_loss did not improve from 0.02630\n",
            "Epoch 16/20\n",
            "7500/7500 - 41s - loss: 0.0321 - accuracy: 0.9900 - val_loss: 0.0250 - val_accuracy: 0.9919\n",
            "\n",
            "Epoch 00016: val_loss improved from 0.02630 to 0.02500, saving model to model.weights.best.hdf5\n",
            "Epoch 17/20\n",
            "7500/7500 - 38s - loss: 0.0316 - accuracy: 0.9895 - val_loss: 0.0290 - val_accuracy: 0.9902\n",
            "\n",
            "Epoch 00017: val_loss did not improve from 0.02500\n",
            "Epoch 18/20\n",
            "7500/7500 - 38s - loss: 0.0298 - accuracy: 0.9906 - val_loss: 0.0292 - val_accuracy: 0.9914\n",
            "\n",
            "Epoch 00018: val_loss did not improve from 0.02500\n",
            "Epoch 19/20\n",
            "7500/7500 - 38s - loss: 0.0297 - accuracy: 0.9905 - val_loss: 0.0229 - val_accuracy: 0.9921\n",
            "\n",
            "Epoch 00019: val_loss improved from 0.02500 to 0.02294, saving model to model.weights.best.hdf5\n",
            "Epoch 20/20\n",
            "7500/7500 - 38s - loss: 0.0285 - accuracy: 0.9908 - val_loss: 0.0244 - val_accuracy: 0.9915\n",
            "\n",
            "Epoch 00020: val_loss did not improve from 0.02294\n"
          ],
          "name": "stdout"
        }
      ]
    },
    {
      "cell_type": "code",
      "metadata": {
        "colab": {
          "base_uri": "https://localhost:8080/"
        },
        "id": "wqkreZVennuy",
        "outputId": "942fa876-9ddd-429c-9b03-e44065cf49ae"
      },
      "source": [
        "model2 = Sequential()\n",
        "\n",
        "model2.add(Conv2D(8, kernel_size=(3, 3),activation='relu',input_shape=(28,28,1)))#26\n",
        "model2.add(BatchNormalization())\n",
        "model2.add(Dropout(0.2))\n",
        "\n",
        "model2.add(Conv2D(8, (3, 3), activation='relu'))#24\n",
        "model2.add(BatchNormalization())\n",
        "model2.add(Dropout(0.2))\n",
        "\n",
        "\n",
        "\n",
        "model2.add(Conv2D(8, (3, 3), activation='relu'))#22\n",
        "model2.add(BatchNormalization())\n",
        "model2.add(Dropout(0.2))\n",
        "\n",
        "model2.add(Conv2D(10, (3, 3), activation='relu'))#20\n",
        "model2.add(MaxPooling2D(pool_size=(2, 2)))#10\n",
        "\n",
        "\n",
        "model2.add(Conv2D(10, (1, 1), activation='relu'))#10\n",
        "\n",
        "model2.add(Conv2D(12, (3, 3), activation='relu'))#8\n",
        "\n",
        "model2.add(Conv2D(16, (3, 3), activation='relu'))#6\n",
        "\n",
        "model2.add(Conv2D(16, (3, 3), activation='relu'))#4\n",
        "\n",
        "model2.add(Conv2D(10, 4,4))\n",
        "\n",
        "model2.add(Flatten())\n",
        "model2.add(Dense(10,activation='softmax'))\n",
        "\n",
        "model2.summary()"
      ],
      "execution_count": null,
      "outputs": [
        {
          "output_type": "stream",
          "text": [
            "Model: \"sequential_1\"\n",
            "_________________________________________________________________\n",
            "Layer (type)                 Output Shape              Param #   \n",
            "=================================================================\n",
            "conv2d_7 (Conv2D)            (None, 26, 26, 8)         80        \n",
            "_________________________________________________________________\n",
            "batch_normalization_3 (Batch (None, 26, 26, 8)         32        \n",
            "_________________________________________________________________\n",
            "dropout_3 (Dropout)          (None, 26, 26, 8)         0         \n",
            "_________________________________________________________________\n",
            "conv2d_8 (Conv2D)            (None, 24, 24, 8)         584       \n",
            "_________________________________________________________________\n",
            "batch_normalization_4 (Batch (None, 24, 24, 8)         32        \n",
            "_________________________________________________________________\n",
            "dropout_4 (Dropout)          (None, 24, 24, 8)         0         \n",
            "_________________________________________________________________\n",
            "conv2d_9 (Conv2D)            (None, 22, 22, 8)         584       \n",
            "_________________________________________________________________\n",
            "batch_normalization_5 (Batch (None, 22, 22, 8)         32        \n",
            "_________________________________________________________________\n",
            "dropout_5 (Dropout)          (None, 22, 22, 8)         0         \n",
            "_________________________________________________________________\n",
            "conv2d_10 (Conv2D)           (None, 20, 20, 10)        730       \n",
            "_________________________________________________________________\n",
            "max_pooling2d_1 (MaxPooling2 (None, 10, 10, 10)        0         \n",
            "_________________________________________________________________\n",
            "conv2d_11 (Conv2D)           (None, 10, 10, 10)        110       \n",
            "_________________________________________________________________\n",
            "conv2d_12 (Conv2D)           (None, 8, 8, 12)          1092      \n",
            "_________________________________________________________________\n",
            "conv2d_13 (Conv2D)           (None, 6, 6, 16)          1744      \n",
            "_________________________________________________________________\n",
            "conv2d_14 (Conv2D)           (None, 4, 4, 16)          2320      \n",
            "_________________________________________________________________\n",
            "conv2d_15 (Conv2D)           (None, 1, 1, 10)          2570      \n",
            "_________________________________________________________________\n",
            "flatten_1 (Flatten)          (None, 10)                0         \n",
            "_________________________________________________________________\n",
            "dense_1 (Dense)              (None, 10)                110       \n",
            "=================================================================\n",
            "Total params: 10,020\n",
            "Trainable params: 9,972\n",
            "Non-trainable params: 48\n",
            "_________________________________________________________________\n"
          ],
          "name": "stdout"
        }
      ]
    },
    {
      "cell_type": "code",
      "metadata": {
        "id": "nUZEDV-e7Hf_"
      },
      "source": [
        "from keras.optimizers import Adam\n",
        "\n",
        "\n",
        "model2.compile(loss='categorical_crossentropy', optimizer='SGD', \n",
        "              metrics=['accuracy'])"
      ],
      "execution_count": null,
      "outputs": []
    },
    {
      "cell_type": "code",
      "metadata": {
        "colab": {
          "base_uri": "https://localhost:8080/",
          "height": 231
        },
        "id": "KP3_3zPM7aO-",
        "outputId": "b7ec8340-b054-4057-d0f2-d41f92f3ec3a"
      },
      "source": [
        "checkpointer = ModelCheckpoint(filepath='model2.weights.best.hdf5', verbose=1, \n",
        "                               save_best_only=True)\n",
        "hist = model2.fit(X_train, y_train, batch_size=8, epochs=20,\n",
        "          validation_data=(X_test, y_test), callbacks=[checkpointer], \n",
        "          verbose=2, shuffle=True)"
      ],
      "execution_count": null,
      "outputs": [
        {
          "output_type": "error",
          "ename": "NameError",
          "evalue": "ignored",
          "traceback": [
            "\u001b[0;31m---------------------------------------------------------------------------\u001b[0m",
            "\u001b[0;31mNameError\u001b[0m                                 Traceback (most recent call last)",
            "\u001b[0;32m<ipython-input-1-52391250968b>\u001b[0m in \u001b[0;36m<module>\u001b[0;34m()\u001b[0m\n\u001b[0;32m----> 1\u001b[0;31m checkpointer = ModelCheckpoint(filepath='model2.weights.best.hdf5', verbose=1, \n\u001b[0m\u001b[1;32m      2\u001b[0m                                save_best_only=True)\n\u001b[1;32m      3\u001b[0m hist = model2.fit(X_train, y_train, batch_size=8, epochs=30,\n\u001b[1;32m      4\u001b[0m           \u001b[0mvalidation_data\u001b[0m\u001b[0;34m=\u001b[0m\u001b[0;34m(\u001b[0m\u001b[0mX_test\u001b[0m\u001b[0;34m,\u001b[0m \u001b[0my_test\u001b[0m\u001b[0;34m)\u001b[0m\u001b[0;34m,\u001b[0m \u001b[0mcallbacks\u001b[0m\u001b[0;34m=\u001b[0m\u001b[0;34m[\u001b[0m\u001b[0mcheckpointer\u001b[0m\u001b[0;34m]\u001b[0m\u001b[0;34m,\u001b[0m\u001b[0;34m\u001b[0m\u001b[0;34m\u001b[0m\u001b[0m\n\u001b[1;32m      5\u001b[0m           verbose=2, shuffle=True)\n",
            "\u001b[0;31mNameError\u001b[0m: name 'ModelCheckpoint' is not defined"
          ]
        }
      ]
    },
    {
      "cell_type": "code",
      "metadata": {
        "id": "aTkz8Bj37z2Q"
      },
      "source": [
        ""
      ],
      "execution_count": null,
      "outputs": []
    }
  ]
}