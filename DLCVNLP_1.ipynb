{
  "nbformat": 4,
  "nbformat_minor": 0,
  "metadata": {
    "colab": {
      "name": "DLCVNLP_1.ipynb",
      "provenance": [],
      "collapsed_sections": [],
      "mount_file_id": "179d0UfoxU8PMTzU-gliduiBA35pLm3Lp",
      "authorship_tag": "ABX9TyPeIM64lov3/mtswU75xQK2",
      "include_colab_link": true
    },
    "kernelspec": {
      "name": "python3",
      "display_name": "Python 3"
    },
    "language_info": {
      "name": "python"
    },
    "accelerator": "GPU"
  },
  "cells": [
    {
      "cell_type": "markdown",
      "metadata": {
        "id": "view-in-github",
        "colab_type": "text"
      },
      "source": [
        "<a href=\"https://colab.research.google.com/github/RishabhMehra/DLCVNLP/blob/main/DLCVNLP_1.ipynb\" target=\"_parent\"><img src=\"https://colab.research.google.com/assets/colab-badge.svg\" alt=\"Open In Colab\"/></a>"
      ]
    },
    {
      "cell_type": "code",
      "metadata": {
        "id": "Q6a_PCGc6j8m",
        "colab": {
          "base_uri": "https://localhost:8080/"
        },
        "outputId": "2cc94b6a-d3e3-4b22-b411-f9743f0ea89b"
      },
      "source": [
        "!nvidia-smi"
      ],
      "execution_count": null,
      "outputs": [
        {
          "output_type": "stream",
          "text": [
            "Sat May 29 12:47:35 2021       \n",
            "+-----------------------------------------------------------------------------+\n",
            "| NVIDIA-SMI 465.19.01    Driver Version: 460.32.03    CUDA Version: 11.2     |\n",
            "|-------------------------------+----------------------+----------------------+\n",
            "| GPU  Name        Persistence-M| Bus-Id        Disp.A | Volatile Uncorr. ECC |\n",
            "| Fan  Temp  Perf  Pwr:Usage/Cap|         Memory-Usage | GPU-Util  Compute M. |\n",
            "|                               |                      |               MIG M. |\n",
            "|===============================+======================+======================|\n",
            "|   0  Tesla T4            Off  | 00000000:00:04.0 Off |                    0 |\n",
            "| N/A   74C    P0    32W /  70W |    228MiB / 15109MiB |      0%      Default |\n",
            "|                               |                      |                  N/A |\n",
            "+-------------------------------+----------------------+----------------------+\n",
            "                                                                               \n",
            "+-----------------------------------------------------------------------------+\n",
            "| Processes:                                                                  |\n",
            "|  GPU   GI   CI        PID   Type   Process name                  GPU Memory |\n",
            "|        ID   ID                                                   Usage      |\n",
            "|=============================================================================|\n",
            "+-----------------------------------------------------------------------------+\n"
          ],
          "name": "stdout"
        }
      ]
    },
    {
      "cell_type": "code",
      "metadata": {
        "id": "pCz750zk7SLU"
      },
      "source": [
        "import tensorflow as tf\n"
      ],
      "execution_count": null,
      "outputs": []
    },
    {
      "cell_type": "code",
      "metadata": {
        "colab": {
          "base_uri": "https://localhost:8080/"
        },
        "id": "iY3Gm7ZC75F9",
        "outputId": "7bd206d3-cd0e-4867-f53e-583ccdb5d8d1"
      },
      "source": [
        "tf.version\n"
      ],
      "execution_count": null,
      "outputs": [
        {
          "output_type": "execute_result",
          "data": {
            "text/plain": [
              "<module 'tensorflow._api.v2.version' from '/usr/local/lib/python3.7/dist-packages/tensorflow/_api/v2/version/__init__.py'>"
            ]
          },
          "metadata": {
            "tags": []
          },
          "execution_count": 25
        }
      ]
    },
    {
      "cell_type": "code",
      "metadata": {
        "colab": {
          "base_uri": "https://localhost:8080/"
        },
        "id": "kR41RUwI8DQp",
        "outputId": "0f6220db-3a6c-480e-97db-fd28f352c767"
      },
      "source": [
        "!pip install torch==1.8.1+cpu torchvision==0.9.1+cpu torchaudio==0.8.1 -f https://download.pytorch.org/whl/torch_stable.html"
      ],
      "execution_count": null,
      "outputs": [
        {
          "output_type": "stream",
          "text": [
            "Looking in links: https://download.pytorch.org/whl/torch_stable.html\n",
            "Requirement already satisfied: torch==1.8.1+cpu in /usr/local/lib/python3.7/dist-packages (1.8.1+cpu)\n",
            "Requirement already satisfied: torchvision==0.9.1+cpu in /usr/local/lib/python3.7/dist-packages (0.9.1+cpu)\n",
            "Requirement already satisfied: torchaudio==0.8.1 in /usr/local/lib/python3.7/dist-packages (0.8.1)\n",
            "Requirement already satisfied: numpy in /usr/local/lib/python3.7/dist-packages (from torch==1.8.1+cpu) (1.19.5)\n",
            "Requirement already satisfied: typing-extensions in /usr/local/lib/python3.7/dist-packages (from torch==1.8.1+cpu) (3.7.4.3)\n",
            "Requirement already satisfied: pillow>=4.1.1 in /usr/local/lib/python3.7/dist-packages (from torchvision==0.9.1+cpu) (7.1.2)\n"
          ],
          "name": "stdout"
        }
      ]
    },
    {
      "cell_type": "code",
      "metadata": {
        "id": "AiVq-OuD8gV1"
      },
      "source": [
        "import numpy as np\n",
        "import matplotlib.pyplot as plt\n",
        "import pandas as pd"
      ],
      "execution_count": null,
      "outputs": []
    },
    {
      "cell_type": "code",
      "metadata": {
        "id": "9PxN7e-k3BRe"
      },
      "source": [
        "mnist = tf.keras.datasets.mnist"
      ],
      "execution_count": null,
      "outputs": []
    },
    {
      "cell_type": "code",
      "metadata": {
        "id": "mPuFDQXQ3F-G"
      },
      "source": [
        "(X_train_full,Y_train_full) ,(X_test,Y_test) = mnist.load_data()"
      ],
      "execution_count": null,
      "outputs": []
    },
    {
      "cell_type": "code",
      "metadata": {
        "colab": {
          "base_uri": "https://localhost:8080/"
        },
        "id": "IAkww0K83UT8",
        "outputId": "06e07c60-0730-4406-be08-bb72e99101ce"
      },
      "source": [
        "X_train_full.shape"
      ],
      "execution_count": null,
      "outputs": [
        {
          "output_type": "execute_result",
          "data": {
            "text/plain": [
              "(60000, 28, 28)"
            ]
          },
          "metadata": {
            "tags": []
          },
          "execution_count": 30
        }
      ]
    },
    {
      "cell_type": "code",
      "metadata": {
        "colab": {
          "base_uri": "https://localhost:8080/"
        },
        "id": "b4flqWDX3gDr",
        "outputId": "10fc4915-7fc7-46eb-83c9-25166349b9aa"
      },
      "source": [
        "Y_train_full.shape"
      ],
      "execution_count": null,
      "outputs": [
        {
          "output_type": "execute_result",
          "data": {
            "text/plain": [
              "(60000,)"
            ]
          },
          "metadata": {
            "tags": []
          },
          "execution_count": 31
        }
      ]
    },
    {
      "cell_type": "code",
      "metadata": {
        "id": "0Gl38tdw3zRB"
      },
      "source": [
        "#validation from full\n",
        "#scale data\n",
        "x_valid,x_train = X_train_full[:50000]/255.,X_train_full[50000:]/255.\n",
        "y_valid,y_train = Y_train_full[:50000],Y_train_full[50000:]\n",
        "\n",
        "\n",
        "#scale test set\n",
        "X_test = X_test/255."
      ],
      "execution_count": null,
      "outputs": []
    },
    {
      "cell_type": "code",
      "metadata": {
        "colab": {
          "base_uri": "https://localhost:8080/",
          "height": 248
        },
        "id": "BSmb_sHl4t9S",
        "outputId": "89f1e0b9-3e64-47d9-f2f2-cd858937eb36"
      },
      "source": [
        "plt.imshow(x_train[7],cmap='binary')\n",
        "plt.axis('off')\n",
        "plt.show()"
      ],
      "execution_count": null,
      "outputs": [
        {
          "output_type": "display_data",
          "data": {
            "image/png": "[encoded data removed]",
            "text/plain": [
              "<Figure size 432x288 with 1 Axes>"
            ]
          },
          "metadata": {
            "tags": [],
            "needs_background": "light"
          }
        }
      ]
    },
    {
      "cell_type": "code",
      "metadata": {
        "id": "zj1YRd1o17uu"
      },
      "source": [
        "LAYERS = [tf.keras.layers.Flatten(input_shape=[28,28],name=\"inputLayer\"),\n",
        "          tf.keras.layers.Dense(150,activation='relu',name='hiddenLayer1'),\n",
        "          tf.keras.layers.Dense(100, activation='relu',name='hiddenLayer2'),\n",
        "          tf.keras.layers.Dense(10,activation='softmax',name='outlayer')]"
      ],
      "execution_count": null,
      "outputs": []
    },
    {
      "cell_type": "code",
      "metadata": {
        "id": "-oJwiGcc5_hm"
      },
      "source": [
        "model_clf = tf.keras.models.Sequential(LAYERS)"
      ],
      "execution_count": null,
      "outputs": []
    },
    {
      "cell_type": "code",
      "metadata": {
        "colab": {
          "base_uri": "https://localhost:8080/"
        },
        "id": "QM_cs5zw6OW1",
        "outputId": "ced587e0-edc1-4f5d-958d-878a047cc8ff"
      },
      "source": [
        "model_clf.summary()"
      ],
      "execution_count": null,
      "outputs": [
        {
          "output_type": "stream",
          "text": [
            "Model: \"sequential_2\"\n",
            "_________________________________________________________________\n",
            "Layer (type)                 Output Shape              Param #   \n",
            "=================================================================\n",
            "inputLayer (Flatten)         (None, 784)               0         \n",
            "_________________________________________________________________\n",
            "hiddenLayer1 (Dense)         (None, 150)               117750    \n",
            "_________________________________________________________________\n",
            "hiddenLayer2 (Dense)         (None, 100)               15100     \n",
            "_________________________________________________________________\n",
            "outlayer (Dense)             (None, 10)                1010      \n",
            "=================================================================\n",
            "Total params: 133,860\n",
            "Trainable params: 133,860\n",
            "Non-trainable params: 0\n",
            "_________________________________________________________________\n"
          ],
          "name": "stdout"
        }
      ]
    },
    {
      "cell_type": "code",
      "metadata": {
        "colab": {
          "base_uri": "https://localhost:8080/",
          "height": 35
        },
        "id": "I0Eityri6bH5",
        "outputId": "0b2569bf-09c3-4a16-c766-01a055225572"
      },
      "source": [
        "hidden1 = model_clf.layers[1]\n",
        "hidden1.name"
      ],
      "execution_count": null,
      "outputs": [
        {
          "output_type": "execute_result",
          "data": {
            "application/vnd.google.colaboratory.intrinsic+json": {
              "type": "string"
            },
            "text/plain": [
              "'hiddenLayer1'"
            ]
          },
          "metadata": {
            "tags": []
          },
          "execution_count": 37
        }
      ]
    },
    {
      "cell_type": "code",
      "metadata": {
        "id": "j3sBvZ-e8szj"
      },
      "source": [
        "weights, biases = hidden1.get_weights()"
      ],
      "execution_count": null,
      "outputs": []
    },
    {
      "cell_type": "code",
      "metadata": {
        "colab": {
          "base_uri": "https://localhost:8080/"
        },
        "id": "JQalQdCxAt2F",
        "outputId": "6db0104f-4e9d-425c-aead-6199385d19c5"
      },
      "source": [
        "weights.shape"
      ],
      "execution_count": null,
      "outputs": [
        {
          "output_type": "execute_result",
          "data": {
            "text/plain": [
              "(784, 150)"
            ]
          },
          "metadata": {
            "tags": []
          },
          "execution_count": 39
        }
      ]
    },
    {
      "cell_type": "code",
      "metadata": {
        "colab": {
          "base_uri": "https://localhost:8080/"
        },
        "id": "wG1ZqxZ5Azn4",
        "outputId": "e929d979-3ba2-41bf-c371-7cceeb92dfcf"
      },
      "source": [
        "biases.shape"
      ],
      "execution_count": null,
      "outputs": [
        {
          "output_type": "execute_result",
          "data": {
            "text/plain": [
              "(150,)"
            ]
          },
          "metadata": {
            "tags": []
          },
          "execution_count": 40
        }
      ]
    },
    {
      "cell_type": "code",
      "metadata": {
        "id": "nZyAe4vEA3Ba"
      },
      "source": [
        "model_clf.compile(loss=tf.losses.sparse_categorical_crossentropy,\n",
        "                  optimizer= tf.keras.optimizers.SGD(0.02),\n",
        "                  metrics=['accuracy'])"
      ],
      "execution_count": null,
      "outputs": []
    },
    {
      "cell_type": "code",
      "metadata": {
        "colab": {
          "base_uri": "https://localhost:8080/"
        },
        "id": "lquubvDRKwG9",
        "outputId": "6794d82a-4039-42da-d8d6-b83e8b16f676"
      },
      "source": [
        "Epochs =30\n",
        "validation_set = (x_valid,y_valid)\n",
        "\n",
        "history = model_clf.fit(x_train,y_train,epochs=Epochs,\n",
        "                        validation_data=validation_set,batch_size=25)"
      ],
      "execution_count": null,
      "outputs": [
        {
          "output_type": "stream",
          "text": [
            "Epoch 1/30\n",
            "400/400 [==============================] - 7s 9ms/step - loss: 0.9312 - accuracy: 0.7637 - val_loss: 0.4863 - val_accuracy: 0.8650\n",
            "Epoch 2/30\n",
            "400/400 [==============================] - 3s 7ms/step - loss: 0.3634 - accuracy: 0.8980 - val_loss: 0.3729 - val_accuracy: 0.8912\n",
            "Epoch 3/30\n",
            "400/400 [==============================] - 3s 8ms/step - loss: 0.2918 - accuracy: 0.9166 - val_loss: 0.3446 - val_accuracy: 0.8998\n",
            "Epoch 4/30\n",
            "400/400 [==============================] - 3s 7ms/step - loss: 0.2529 - accuracy: 0.9288 - val_loss: 0.3068 - val_accuracy: 0.9091\n",
            "Epoch 5/30\n",
            "400/400 [==============================] - 3s 8ms/step - loss: 0.2240 - accuracy: 0.9363 - val_loss: 0.2918 - val_accuracy: 0.9148\n",
            "Epoch 6/30\n",
            "400/400 [==============================] - 3s 8ms/step - loss: 0.2012 - accuracy: 0.9437 - val_loss: 0.2789 - val_accuracy: 0.9192\n",
            "Epoch 7/30\n",
            "400/400 [==============================] - 3s 7ms/step - loss: 0.1826 - accuracy: 0.9485 - val_loss: 0.2618 - val_accuracy: 0.9235\n",
            "Epoch 8/30\n",
            "400/400 [==============================] - 3s 8ms/step - loss: 0.1657 - accuracy: 0.9542 - val_loss: 0.2550 - val_accuracy: 0.9245\n",
            "Epoch 9/30\n",
            "400/400 [==============================] - 3s 8ms/step - loss: 0.1496 - accuracy: 0.9589 - val_loss: 0.2459 - val_accuracy: 0.9278\n",
            "Epoch 10/30\n",
            "400/400 [==============================] - 3s 8ms/step - loss: 0.1373 - accuracy: 0.9629 - val_loss: 0.2375 - val_accuracy: 0.9306\n",
            "Epoch 11/30\n",
            "400/400 [==============================] - 3s 8ms/step - loss: 0.1259 - accuracy: 0.9657 - val_loss: 0.2287 - val_accuracy: 0.9328\n",
            "Epoch 12/30\n",
            "400/400 [==============================] - 3s 7ms/step - loss: 0.1142 - accuracy: 0.9696 - val_loss: 0.2323 - val_accuracy: 0.9312\n",
            "Epoch 13/30\n",
            "400/400 [==============================] - 3s 7ms/step - loss: 0.1057 - accuracy: 0.9707 - val_loss: 0.2333 - val_accuracy: 0.9313\n",
            "Epoch 14/30\n",
            "400/400 [==============================] - 3s 7ms/step - loss: 0.0968 - accuracy: 0.9743 - val_loss: 0.2204 - val_accuracy: 0.9338\n",
            "Epoch 15/30\n",
            "400/400 [==============================] - 3s 7ms/step - loss: 0.0894 - accuracy: 0.9768 - val_loss: 0.2210 - val_accuracy: 0.9360\n",
            "Epoch 16/30\n",
            "400/400 [==============================] - 3s 7ms/step - loss: 0.0820 - accuracy: 0.9776 - val_loss: 0.2091 - val_accuracy: 0.9393\n",
            "Epoch 17/30\n",
            "400/400 [==============================] - 3s 7ms/step - loss: 0.0756 - accuracy: 0.9813 - val_loss: 0.2061 - val_accuracy: 0.9397\n",
            "Epoch 18/30\n",
            "400/400 [==============================] - 3s 8ms/step - loss: 0.0684 - accuracy: 0.9827 - val_loss: 0.2059 - val_accuracy: 0.9403\n",
            "Epoch 19/30\n",
            "400/400 [==============================] - 3s 7ms/step - loss: 0.0633 - accuracy: 0.9839 - val_loss: 0.2042 - val_accuracy: 0.9414\n",
            "Epoch 20/30\n",
            "400/400 [==============================] - 3s 7ms/step - loss: 0.0589 - accuracy: 0.9861 - val_loss: 0.2073 - val_accuracy: 0.9401\n",
            "Epoch 21/30\n",
            "400/400 [==============================] - 3s 8ms/step - loss: 0.0539 - accuracy: 0.9876 - val_loss: 0.2012 - val_accuracy: 0.9422\n",
            "Epoch 22/30\n",
            "400/400 [==============================] - 3s 8ms/step - loss: 0.0494 - accuracy: 0.9899 - val_loss: 0.2011 - val_accuracy: 0.9423\n",
            "Epoch 23/30\n",
            "400/400 [==============================] - 3s 7ms/step - loss: 0.0451 - accuracy: 0.9912 - val_loss: 0.2005 - val_accuracy: 0.9423\n",
            "Epoch 24/30\n",
            "400/400 [==============================] - 3s 7ms/step - loss: 0.0425 - accuracy: 0.9913 - val_loss: 0.2040 - val_accuracy: 0.9419\n",
            "Epoch 25/30\n",
            "400/400 [==============================] - 3s 8ms/step - loss: 0.0386 - accuracy: 0.9932 - val_loss: 0.1991 - val_accuracy: 0.9430\n",
            "Epoch 26/30\n",
            "400/400 [==============================] - 3s 8ms/step - loss: 0.0364 - accuracy: 0.9936 - val_loss: 0.2014 - val_accuracy: 0.9430\n",
            "Epoch 27/30\n",
            "400/400 [==============================] - 3s 8ms/step - loss: 0.0330 - accuracy: 0.9944 - val_loss: 0.1995 - val_accuracy: 0.9440\n",
            "Epoch 28/30\n",
            "400/400 [==============================] - 3s 8ms/step - loss: 0.0309 - accuracy: 0.9953 - val_loss: 0.1990 - val_accuracy: 0.9436\n",
            "Epoch 29/30\n",
            "400/400 [==============================] - 3s 7ms/step - loss: 0.0285 - accuracy: 0.9959 - val_loss: 0.2024 - val_accuracy: 0.9433\n",
            "Epoch 30/30\n",
            "400/400 [==============================] - 3s 7ms/step - loss: 0.0265 - accuracy: 0.9965 - val_loss: 0.2008 - val_accuracy: 0.9432\n"
          ],
          "name": "stdout"
        }
      ]
    },
    {
      "cell_type": "code",
      "metadata": {
        "colab": {
          "base_uri": "https://localhost:8080/",
          "height": 35
        },
        "id": "Kwm9C_NKLZmO",
        "outputId": "da64e936-f666-45d6-879b-0a2db3e47967"
      },
      "source": [
        "import time\n",
        "import os\n",
        "ROOT='/content/drive/MyDrive/DLCVNLP'\n",
        "os.chdir(ROOT)\n",
        "os.getcwd()"
      ],
      "execution_count": null,
      "outputs": [
        {
          "output_type": "execute_result",
          "data": {
            "application/vnd.google.colaboratory.intrinsic+json": {
              "type": "string"
            },
            "text/plain": [
              "'/content/drive/MyDrive/DLCVNLP'"
            ]
          },
          "metadata": {
            "tags": []
          },
          "execution_count": 45
        }
      ]
    },
    {
      "cell_type": "code",
      "metadata": {
        "id": "V_6HfSnANPXm"
      },
      "source": [
        "def saveModel_path(model_dir=\"SAVED_MODELS\"):\n",
        "  os.makedirs(model_dir,exist_ok=True)\n",
        "  fileName = time.strftime(\"Model_%Y_%m_%d_%H_%M_%S_.h5\")\n",
        "  model_path = os.path.join(model_dir,fileName)\n",
        "  print(f\"your model will be saved at the following location\\n{model_path}\")\n",
        "  return model_path"
      ],
      "execution_count": null,
      "outputs": []
    },
    {
      "cell_type": "code",
      "metadata": {
        "colab": {
          "base_uri": "https://localhost:8080/"
        },
        "id": "ls9eTx6yO3ri",
        "outputId": "3d1effc5-ab6c-49d0-aeb0-9c9195bc5c31"
      },
      "source": [
        "Unique_Path =  model_clf.save(saveModel_path())"
      ],
      "execution_count": null,
      "outputs": [
        {
          "output_type": "stream",
          "text": [
            "your model will be saved at the following location\n",
            "SAVED_MODELS/Model_2021_05_29_13_07_36_.h5\n"
          ],
          "name": "stdout"
        }
      ]
    },
    {
      "cell_type": "code",
      "metadata": {
        "colab": {
          "base_uri": "https://localhost:8080/"
        },
        "id": "_nBTflE-PGqa",
        "outputId": "17d52300-3daa-4cb1-9f5d-b569c459ac42"
      },
      "source": [
        "history.params"
      ],
      "execution_count": null,
      "outputs": [
        {
          "output_type": "execute_result",
          "data": {
            "text/plain": [
              "{'epochs': 30, 'steps': 400, 'verbose': 1}"
            ]
          },
          "metadata": {
            "tags": []
          },
          "execution_count": 50
        }
      ]
    },
    {
      "cell_type": "code",
      "metadata": {
        "colab": {
          "base_uri": "https://localhost:8080/",
          "height": 979
        },
        "id": "jylg5b2uPPVw",
        "outputId": "7ccecaeb-fa67-4249-a3c9-5390981f2b7d"
      },
      "source": [
        "pd.DataFrame(history.history)"
      ],
      "execution_count": null,
      "outputs": [
        {
          "output_type": "execute_result",
          "data": {
            "text/html": [
              "<div>\n",
              "<style scoped>\n",
              "    .dataframe tbody tr th:only-of-type {\n",
              "        vertical-align: middle;\n",
              "    }\n",
              "\n",
              "    .dataframe tbody tr th {\n",
              "        vertical-align: top;\n",
              "    }\n",
              "\n",
              "    .dataframe thead th {\n",
              "        text-align: right;\n",
              "    }\n",
              "</style>\n",
              "<table border=\"1\" class=\"dataframe\">\n",
              "  <thead>\n",
              "    <tr style=\"text-align: right;\">\n",
              "      <th></th>\n",
              "      <th>loss</th>\n",
              "      <th>accuracy</th>\n",
              "      <th>val_loss</th>\n",
              "      <th>val_accuracy</th>\n",
              "    </tr>\n",
              "  </thead>\n",
              "  <tbody>\n",
              "    <tr>\n",
              "      <th>0</th>\n",
              "      <td>0.931205</td>\n",
              "      <td>0.7637</td>\n",
              "      <td>0.486269</td>\n",
              "      <td>0.86500</td>\n",
              "    </tr>\n",
              "    <tr>\n",
              "      <th>1</th>\n",
              "      <td>0.363408</td>\n",
              "      <td>0.8980</td>\n",
              "      <td>0.372942</td>\n",
              "      <td>0.89116</td>\n",
              "    </tr>\n",
              "    <tr>\n",
              "      <th>2</th>\n",
              "      <td>0.291793</td>\n",
              "      <td>0.9166</td>\n",
              "      <td>0.344560</td>\n",
              "      <td>0.89976</td>\n",
              "    </tr>\n",
              "    <tr>\n",
              "      <th>3</th>\n",
              "      <td>0.252852</td>\n",
              "      <td>0.9288</td>\n",
              "      <td>0.306767</td>\n",
              "      <td>0.90912</td>\n",
              "    </tr>\n",
              "    <tr>\n",
              "      <th>4</th>\n",
              "      <td>0.223961</td>\n",
              "      <td>0.9363</td>\n",
              "      <td>0.291807</td>\n",
              "      <td>0.91484</td>\n",
              "    </tr>\n",
              "    <tr>\n",
              "      <th>5</th>\n",
              "      <td>0.201164</td>\n",
              "      <td>0.9437</td>\n",
              "      <td>0.278866</td>\n",
              "      <td>0.91922</td>\n",
              "    </tr>\n",
              "    <tr>\n",
              "      <th>6</th>\n",
              "      <td>0.182572</td>\n",
              "      <td>0.9485</td>\n",
              "      <td>0.261796</td>\n",
              "      <td>0.92348</td>\n",
              "    </tr>\n",
              "    <tr>\n",
              "      <th>7</th>\n",
              "      <td>0.165724</td>\n",
              "      <td>0.9542</td>\n",
              "      <td>0.255033</td>\n",
              "      <td>0.92446</td>\n",
              "    </tr>\n",
              "    <tr>\n",
              "      <th>8</th>\n",
              "      <td>0.149586</td>\n",
              "      <td>0.9589</td>\n",
              "      <td>0.245944</td>\n",
              "      <td>0.92782</td>\n",
              "    </tr>\n",
              "    <tr>\n",
              "      <th>9</th>\n",
              "      <td>0.137335</td>\n",
              "      <td>0.9629</td>\n",
              "      <td>0.237544</td>\n",
              "      <td>0.93056</td>\n",
              "    </tr>\n",
              "    <tr>\n",
              "      <th>10</th>\n",
              "      <td>0.125929</td>\n",
              "      <td>0.9657</td>\n",
              "      <td>0.228704</td>\n",
              "      <td>0.93276</td>\n",
              "    </tr>\n",
              "    <tr>\n",
              "      <th>11</th>\n",
              "      <td>0.114231</td>\n",
              "      <td>0.9696</td>\n",
              "      <td>0.232288</td>\n",
              "      <td>0.93120</td>\n",
              "    </tr>\n",
              "    <tr>\n",
              "      <th>12</th>\n",
              "      <td>0.105666</td>\n",
              "      <td>0.9707</td>\n",
              "      <td>0.233313</td>\n",
              "      <td>0.93126</td>\n",
              "    </tr>\n",
              "    <tr>\n",
              "      <th>13</th>\n",
              "      <td>0.096752</td>\n",
              "      <td>0.9743</td>\n",
              "      <td>0.220446</td>\n",
              "      <td>0.93380</td>\n",
              "    </tr>\n",
              "    <tr>\n",
              "      <th>14</th>\n",
              "      <td>0.089354</td>\n",
              "      <td>0.9768</td>\n",
              "      <td>0.220985</td>\n",
              "      <td>0.93602</td>\n",
              "    </tr>\n",
              "    <tr>\n",
              "      <th>15</th>\n",
              "      <td>0.082011</td>\n",
              "      <td>0.9776</td>\n",
              "      <td>0.209098</td>\n",
              "      <td>0.93930</td>\n",
              "    </tr>\n",
              "    <tr>\n",
              "      <th>16</th>\n",
              "      <td>0.075634</td>\n",
              "      <td>0.9813</td>\n",
              "      <td>0.206086</td>\n",
              "      <td>0.93970</td>\n",
              "    </tr>\n",
              "    <tr>\n",
              "      <th>17</th>\n",
              "      <td>0.068422</td>\n",
              "      <td>0.9827</td>\n",
              "      <td>0.205859</td>\n",
              "      <td>0.94028</td>\n",
              "    </tr>\n",
              "    <tr>\n",
              "      <th>18</th>\n",
              "      <td>0.063270</td>\n",
              "      <td>0.9839</td>\n",
              "      <td>0.204158</td>\n",
              "      <td>0.94144</td>\n",
              "    </tr>\n",
              "    <tr>\n",
              "      <th>19</th>\n",
              "      <td>0.058910</td>\n",
              "      <td>0.9861</td>\n",
              "      <td>0.207299</td>\n",
              "      <td>0.94010</td>\n",
              "    </tr>\n",
              "    <tr>\n",
              "      <th>20</th>\n",
              "      <td>0.053863</td>\n",
              "      <td>0.9876</td>\n",
              "      <td>0.201179</td>\n",
              "      <td>0.94224</td>\n",
              "    </tr>\n",
              "    <tr>\n",
              "      <th>21</th>\n",
              "      <td>0.049447</td>\n",
              "      <td>0.9899</td>\n",
              "      <td>0.201064</td>\n",
              "      <td>0.94234</td>\n",
              "    </tr>\n",
              "    <tr>\n",
              "      <th>22</th>\n",
              "      <td>0.045147</td>\n",
              "      <td>0.9912</td>\n",
              "      <td>0.200462</td>\n",
              "      <td>0.94234</td>\n",
              "    </tr>\n",
              "    <tr>\n",
              "      <th>23</th>\n",
              "      <td>0.042507</td>\n",
              "      <td>0.9913</td>\n",
              "      <td>0.204040</td>\n",
              "      <td>0.94190</td>\n",
              "    </tr>\n",
              "    <tr>\n",
              "      <th>24</th>\n",
              "      <td>0.038629</td>\n",
              "      <td>0.9932</td>\n",
              "      <td>0.199109</td>\n",
              "      <td>0.94304</td>\n",
              "    </tr>\n",
              "    <tr>\n",
              "      <th>25</th>\n",
              "      <td>0.036411</td>\n",
              "      <td>0.9936</td>\n",
              "      <td>0.201359</td>\n",
              "      <td>0.94304</td>\n",
              "    </tr>\n",
              "    <tr>\n",
              "      <th>26</th>\n",
              "      <td>0.032955</td>\n",
              "      <td>0.9944</td>\n",
              "      <td>0.199481</td>\n",
              "      <td>0.94396</td>\n",
              "    </tr>\n",
              "    <tr>\n",
              "      <th>27</th>\n",
              "      <td>0.030891</td>\n",
              "      <td>0.9953</td>\n",
              "      <td>0.199045</td>\n",
              "      <td>0.94364</td>\n",
              "    </tr>\n",
              "    <tr>\n",
              "      <th>28</th>\n",
              "      <td>0.028539</td>\n",
              "      <td>0.9959</td>\n",
              "      <td>0.202404</td>\n",
              "      <td>0.94334</td>\n",
              "    </tr>\n",
              "    <tr>\n",
              "      <th>29</th>\n",
              "      <td>0.026475</td>\n",
              "      <td>0.9965</td>\n",
              "      <td>0.200834</td>\n",
              "      <td>0.94322</td>\n",
              "    </tr>\n",
              "  </tbody>\n",
              "</table>\n",
              "</div>"
            ],
            "text/plain": [
              "        loss  accuracy  val_loss  val_accuracy\n",
              "0   0.931205    0.7637  0.486269       0.86500\n",
              "1   0.363408    0.8980  0.372942       0.89116\n",
              "2   0.291793    0.9166  0.344560       0.89976\n",
              "3   0.252852    0.9288  0.306767       0.90912\n",
              "4   0.223961    0.9363  0.291807       0.91484\n",
              "5   0.201164    0.9437  0.278866       0.91922\n",
              "6   0.182572    0.9485  0.261796       0.92348\n",
              "7   0.165724    0.9542  0.255033       0.92446\n",
              "8   0.149586    0.9589  0.245944       0.92782\n",
              "9   0.137335    0.9629  0.237544       0.93056\n",
              "10  0.125929    0.9657  0.228704       0.93276\n",
              "11  0.114231    0.9696  0.232288       0.93120\n",
              "12  0.105666    0.9707  0.233313       0.93126\n",
              "13  0.096752    0.9743  0.220446       0.93380\n",
              "14  0.089354    0.9768  0.220985       0.93602\n",
              "15  0.082011    0.9776  0.209098       0.93930\n",
              "16  0.075634    0.9813  0.206086       0.93970\n",
              "17  0.068422    0.9827  0.205859       0.94028\n",
              "18  0.063270    0.9839  0.204158       0.94144\n",
              "19  0.058910    0.9861  0.207299       0.94010\n",
              "20  0.053863    0.9876  0.201179       0.94224\n",
              "21  0.049447    0.9899  0.201064       0.94234\n",
              "22  0.045147    0.9912  0.200462       0.94234\n",
              "23  0.042507    0.9913  0.204040       0.94190\n",
              "24  0.038629    0.9932  0.199109       0.94304\n",
              "25  0.036411    0.9936  0.201359       0.94304\n",
              "26  0.032955    0.9944  0.199481       0.94396\n",
              "27  0.030891    0.9953  0.199045       0.94364\n",
              "28  0.028539    0.9959  0.202404       0.94334\n",
              "29  0.026475    0.9965  0.200834       0.94322"
            ]
          },
          "metadata": {
            "tags": []
          },
          "execution_count": 51
        }
      ]
    },
    {
      "cell_type": "code",
      "metadata": {
        "colab": {
          "base_uri": "https://localhost:8080/",
          "height": 324
        },
        "id": "lKcMeLR_PVpz",
        "outputId": "5b99830a-88ee-46a8-c056-c6252f4f4e3f"
      },
      "source": [
        "pd.DataFrame(history.history).plot(figsize=(8, 5))\n",
        "plt.grid(True)\n",
        "plt.gca().set_ylim(0, 1)\n",
        "plt.show()"
      ],
      "execution_count": null,
      "outputs": [
        {
          "output_type": "display_data",
          "data": {
            "image/png": "[encoded data removed]",
            "text/plain": [
              "<Figure size 576x360 with 1 Axes>"
            ]
          },
          "metadata": {
            "tags": [],
            "needs_background": "light"
          }
        }
      ]
    },
    {
      "cell_type": "code",
      "metadata": {
        "colab": {
          "base_uri": "https://localhost:8080/"
        },
        "id": "GQ9B3PELPlpd",
        "outputId": "06ab8f84-11ee-4dab-eb59-9c49bf474704"
      },
      "source": [
        "model_clf.evaluate(X_test, Y_test)"
      ],
      "execution_count": null,
      "outputs": [
        {
          "output_type": "stream",
          "text": [
            "313/313 [==============================] - 1s 2ms/step - loss: 0.1707 - accuracy: 0.9517\n"
          ],
          "name": "stdout"
        },
        {
          "output_type": "execute_result",
          "data": {
            "text/plain": [
              "[0.170734703540802, 0.95169997215271]"
            ]
          },
          "metadata": {
            "tags": []
          },
          "execution_count": 54
        }
      ]
    },
    {
      "cell_type": "code",
      "metadata": {
        "id": "n6NvsZrXQIIY"
      },
      "source": [
        ""
      ],
      "execution_count": null,
      "outputs": []
    }
  ]
}